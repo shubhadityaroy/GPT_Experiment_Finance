{
  "nbformat": 4,
  "nbformat_minor": 0,
  "metadata": {
    "colab": {
      "provenance": [],
      "mount_file_id": "1UuZYytZxIdbIhtRUci2YvraBrjj4NDDv",
      "authorship_tag": "ABX9TyOLg7biVCxzjab9a7YCZxcH"
    },
    "kernelspec": {
      "name": "python3",
      "display_name": "Python 3"
    },
    "language_info": {
      "name": "python"
    }
  },
  "cells": [
    {
      "cell_type": "markdown",
      "source": [
        "# Install Dependencies"
      ],
      "metadata": {
        "id": "LAT_w1SHITOE"
      }
    },
    {
      "cell_type": "code",
      "execution_count": 1,
      "metadata": {
        "colab": {
          "base_uri": "https://localhost:8080/"
        },
        "id": "4J1U7IY_DweX",
        "outputId": "4256d8bd-c3bc-4279-d392-a3789427ba76"
      },
      "outputs": [
        {
          "output_type": "stream",
          "name": "stdout",
          "text": [
            "Collecting pypdf\n",
            "  Downloading pypdf-3.16.2-py3-none-any.whl (276 kB)\n",
            "\u001b[2K     \u001b[90m━━━━━━━━━━━━━━━━━━━━━━━━━━━━━━━━━━━━━━━\u001b[0m \u001b[32m276.3/276.3 kB\u001b[0m \u001b[31m4.7 MB/s\u001b[0m eta \u001b[36m0:00:00\u001b[0m\n",
            "\u001b[?25hCollecting langchain\n",
            "  Downloading langchain-0.0.307-py3-none-any.whl (1.8 MB)\n",
            "\u001b[2K     \u001b[90m━━━━━━━━━━━━━━━━━━━━━━━━━━━━━━━━━━━━━━━━\u001b[0m \u001b[32m1.8/1.8 MB\u001b[0m \u001b[31m33.1 MB/s\u001b[0m eta \u001b[36m0:00:00\u001b[0m\n",
            "\u001b[?25hRequirement already satisfied: PyYAML>=5.3 in /usr/local/lib/python3.10/dist-packages (from langchain) (6.0.1)\n",
            "Requirement already satisfied: SQLAlchemy<3,>=1.4 in /usr/local/lib/python3.10/dist-packages (from langchain) (2.0.21)\n",
            "Requirement already satisfied: aiohttp<4.0.0,>=3.8.3 in /usr/local/lib/python3.10/dist-packages (from langchain) (3.8.5)\n",
            "Requirement already satisfied: anyio<4.0 in /usr/local/lib/python3.10/dist-packages (from langchain) (3.7.1)\n",
            "Requirement already satisfied: async-timeout<5.0.0,>=4.0.0 in /usr/local/lib/python3.10/dist-packages (from langchain) (4.0.3)\n",
            "Collecting dataclasses-json<0.7,>=0.5.7 (from langchain)\n",
            "  Downloading dataclasses_json-0.6.1-py3-none-any.whl (27 kB)\n",
            "Collecting jsonpatch<2.0,>=1.33 (from langchain)\n",
            "  Downloading jsonpatch-1.33-py2.py3-none-any.whl (12 kB)\n",
            "Collecting langsmith<0.1.0,>=0.0.40 (from langchain)\n",
            "  Downloading langsmith-0.0.41-py3-none-any.whl (39 kB)\n",
            "Requirement already satisfied: numpy<2,>=1 in /usr/local/lib/python3.10/dist-packages (from langchain) (1.23.5)\n",
            "Requirement already satisfied: pydantic<3,>=1 in /usr/local/lib/python3.10/dist-packages (from langchain) (1.10.13)\n",
            "Requirement already satisfied: requests<3,>=2 in /usr/local/lib/python3.10/dist-packages (from langchain) (2.31.0)\n",
            "Requirement already satisfied: tenacity<9.0.0,>=8.1.0 in /usr/local/lib/python3.10/dist-packages (from langchain) (8.2.3)\n",
            "Requirement already satisfied: attrs>=17.3.0 in /usr/local/lib/python3.10/dist-packages (from aiohttp<4.0.0,>=3.8.3->langchain) (23.1.0)\n",
            "Requirement already satisfied: charset-normalizer<4.0,>=2.0 in /usr/local/lib/python3.10/dist-packages (from aiohttp<4.0.0,>=3.8.3->langchain) (3.2.0)\n",
            "Requirement already satisfied: multidict<7.0,>=4.5 in /usr/local/lib/python3.10/dist-packages (from aiohttp<4.0.0,>=3.8.3->langchain) (6.0.4)\n",
            "Requirement already satisfied: yarl<2.0,>=1.0 in /usr/local/lib/python3.10/dist-packages (from aiohttp<4.0.0,>=3.8.3->langchain) (1.9.2)\n",
            "Requirement already satisfied: frozenlist>=1.1.1 in /usr/local/lib/python3.10/dist-packages (from aiohttp<4.0.0,>=3.8.3->langchain) (1.4.0)\n",
            "Requirement already satisfied: aiosignal>=1.1.2 in /usr/local/lib/python3.10/dist-packages (from aiohttp<4.0.0,>=3.8.3->langchain) (1.3.1)\n",
            "Requirement already satisfied: idna>=2.8 in /usr/local/lib/python3.10/dist-packages (from anyio<4.0->langchain) (3.4)\n",
            "Requirement already satisfied: sniffio>=1.1 in /usr/local/lib/python3.10/dist-packages (from anyio<4.0->langchain) (1.3.0)\n",
            "Requirement already satisfied: exceptiongroup in /usr/local/lib/python3.10/dist-packages (from anyio<4.0->langchain) (1.1.3)\n",
            "Collecting marshmallow<4.0.0,>=3.18.0 (from dataclasses-json<0.7,>=0.5.7->langchain)\n",
            "  Downloading marshmallow-3.20.1-py3-none-any.whl (49 kB)\n",
            "\u001b[2K     \u001b[90m━━━━━━━━━━━━━━━━━━━━━━━━━━━━━━━━━━━━━━━━\u001b[0m \u001b[32m49.4/49.4 kB\u001b[0m \u001b[31m5.6 MB/s\u001b[0m eta \u001b[36m0:00:00\u001b[0m\n",
            "\u001b[?25hCollecting typing-inspect<1,>=0.4.0 (from dataclasses-json<0.7,>=0.5.7->langchain)\n",
            "  Downloading typing_inspect-0.9.0-py3-none-any.whl (8.8 kB)\n",
            "Collecting jsonpointer>=1.9 (from jsonpatch<2.0,>=1.33->langchain)\n",
            "  Downloading jsonpointer-2.4-py2.py3-none-any.whl (7.8 kB)\n",
            "Requirement already satisfied: typing-extensions>=4.2.0 in /usr/local/lib/python3.10/dist-packages (from pydantic<3,>=1->langchain) (4.5.0)\n",
            "Requirement already satisfied: urllib3<3,>=1.21.1 in /usr/local/lib/python3.10/dist-packages (from requests<3,>=2->langchain) (2.0.5)\n",
            "Requirement already satisfied: certifi>=2017.4.17 in /usr/local/lib/python3.10/dist-packages (from requests<3,>=2->langchain) (2023.7.22)\n",
            "Requirement already satisfied: greenlet!=0.4.17 in /usr/local/lib/python3.10/dist-packages (from SQLAlchemy<3,>=1.4->langchain) (2.0.2)\n",
            "Requirement already satisfied: packaging>=17.0 in /usr/local/lib/python3.10/dist-packages (from marshmallow<4.0.0,>=3.18.0->dataclasses-json<0.7,>=0.5.7->langchain) (23.1)\n",
            "Collecting mypy-extensions>=0.3.0 (from typing-inspect<1,>=0.4.0->dataclasses-json<0.7,>=0.5.7->langchain)\n",
            "  Downloading mypy_extensions-1.0.0-py3-none-any.whl (4.7 kB)\n",
            "Installing collected packages: pypdf, mypy-extensions, marshmallow, jsonpointer, typing-inspect, langsmith, jsonpatch, dataclasses-json, langchain\n",
            "Successfully installed dataclasses-json-0.6.1 jsonpatch-1.33 jsonpointer-2.4 langchain-0.0.307 langsmith-0.0.41 marshmallow-3.20.1 mypy-extensions-1.0.0 pypdf-3.16.2 typing-inspect-0.9.0\n"
          ]
        }
      ],
      "source": [
        "!pip install pypdf langchain"
      ]
    },
    {
      "cell_type": "code",
      "source": [
        "from langchain.document_loaders import PyPDFLoader\n",
        "\n",
        "loader = PyPDFLoader(\"/content/drive/MyDrive/PrinciplesofFinance-WEB.pdf\") #Loading the dataset\n",
        "pages = loader.load()"
      ],
      "metadata": {
        "id": "siPMPqWfGFf6"
      },
      "execution_count": 4,
      "outputs": []
    },
    {
      "cell_type": "code",
      "source": [
        "len(pages)"
      ],
      "metadata": {
        "colab": {
          "base_uri": "https://localhost:8080/"
        },
        "id": "NLJSpIIzP2xq",
        "outputId": "f19d3579-ed36-4f06-9ec0-44a78d037e02"
      },
      "execution_count": 5,
      "outputs": [
        {
          "output_type": "execute_result",
          "data": {
            "text/plain": [
              "643"
            ]
          },
          "metadata": {},
          "execution_count": 5
        }
      ]
    },
    {
      "cell_type": "code",
      "source": [
        "page_text = \"\"\n",
        "\n",
        "for i in range(0,len(pages)):\n",
        "  text = pages[i].page_content\n",
        "  page_text += text"
      ],
      "metadata": {
        "id": "ZaYt_ve7ORZi"
      },
      "execution_count": 6,
      "outputs": []
    },
    {
      "cell_type": "code",
      "source": [
        "print(\"Length of the characters:\", len(page_text))"
      ],
      "metadata": {
        "colab": {
          "base_uri": "https://localhost:8080/"
        },
        "id": "grHm-kwqNuGM",
        "outputId": "ace744cd-26b9-4c9e-d316-688e07f1fdff"
      },
      "execution_count": 7,
      "outputs": [
        {
          "output_type": "stream",
          "name": "stdout",
          "text": [
            "Length of the characters: 1628179\n"
          ]
        }
      ]
    },
    {
      "cell_type": "code",
      "source": [
        "print(page_text[:2000])"
      ],
      "metadata": {
        "colab": {
          "base_uri": "https://localhost:8080/"
        },
        "id": "gqsL0QUaRK0K",
        "outputId": "c323954e-a442-4dde-d686-5ff5d597b442"
      },
      "execution_count": 8,
      "outputs": [
        {
          "output_type": "stream",
          "name": "stdout",
          "text": [
            "\t\n",
            "\t      Principles of Finance          SENIOR CONTRIBUTING AUTHORS JULIE DAHLQUIST, TEXAS CHRISTIAN UNIVERSITY RAINFORD KNIGHT, FLORIDA ATLANTIC UNIVERSITY          \n",
            "OpenStax  \n",
            "Rice University \n",
            "6100 Main Street MS- 375 \n",
            "Houston, Texas 77005  \n",
            "To learn more about OpenStax, visit http s://openstax.org.  \n",
            "Individual print copies and bulk orders can be purchased through our website.  \n",
            "©2022 Rice University.  Textbook content produced by OpenStax is licensed under a Creative Commons \n",
            "Attribution 4.0 International License  (CC BY 4.0) . Under this license, any user of  this textbook or the textbook \n",
            "contents herein must provide proper attribution as follows:   \n",
            "-If you redistribute this textbook in a digital format (i ncluding but not limited to  PDF and HTML), then y ou\n",
            "must retain on every page the following attribution:\n",
            "“Access for free at openstax.org .”\n",
            "-If you redistribute this textbook in a print format, then you must include on every physical page thefollowing attribution:\n",
            "“Access for free at openstax.org.”\n",
            "-If you redistribute part of this textbook, then you must retai n in every digital format page view (inc luding\n",
            "but not limited to PDF  and HTML) and on every physical printed page the following attribution:\n",
            "“Access for free at openstax.org.”\n",
            "-If you use this textbook as a bibliographic reference, please incl\n",
            "ude\n",
            "https://openstax.org/details/books/ principles -finance  in your citation.\n",
            "For questions regarding this licensing, please contact support @openstax.org.  \n",
            "Trademarks  \n",
            "The OpenStax name, OpenStax logo, OpenStax book covers, OpenStax CNX name, OpenStax CNX logo, \n",
            "OpenStax Tutor name, Openstax Tutor logo, Connexions name, Connexions logo , Rice University name, and \n",
            "Rice University logo  are not subject to the license and may  not be reproduced without the prior and express \n",
            "written consent of Rice University.  \n",
            "978-1-711470 -53-5\n",
            "978-1-711470 -52-8\n",
            "978-1-951693 -54-1\n",
            "2022HARDCOVER BOOK ISBN -13 \n",
            "B&W PAPERBAC K BOO K ISBN -13 \n",
            "DIGITAL VERSION ISBN-1 3 \n",
            "\n"
          ]
        }
      ]
    },
    {
      "cell_type": "code",
      "source": [
        "chars = sorted(list(set(page_text)))\n",
        "vocab_size = len(chars)\n",
        "print(''.join(chars))\n",
        "print(vocab_size)"
      ],
      "metadata": {
        "colab": {
          "base_uri": "https://localhost:8080/"
        },
        "id": "AoMEcjZpS-d1",
        "outputId": "bf6a0c44-9977-421a-a4db-9fca50a83081"
      },
      "execution_count": 9,
      "outputs": [
        {
          "output_type": "stream",
          "name": "stdout",
          "text": [
            "\t\n",
            " !\"#$%&'()*+,-./0123456789:;<=>?@ABCDEFGHIJKLMNOPQRSTUVWXYZ[]^_abcdefghijklmnopqrstuvwxyz|~©®µ×éêñó÷ŷ̃̄ρσ–—‘’“”•…™↓−≅⋯◦\n",
            "121\n"
          ]
        }
      ]
    },
    {
      "cell_type": "code",
      "source": [
        "# Characters to remove\n",
        "characters_to_remove = \"|~©®µ×éêñó÷ŷ̃̄ρσ–—‘’“”•…™↓−≅⋯◦\"\n",
        "\n",
        "# Remove the specified characters from the text\n",
        "cleaned_text = ''.join([char for char in page_text if char not in characters_to_remove])"
      ],
      "metadata": {
        "id": "4hFh_a6jTrx2"
      },
      "execution_count": 10,
      "outputs": []
    },
    {
      "cell_type": "code",
      "source": [
        "chars = sorted(list(set(cleaned_text)))\n",
        "vocab_size = len(chars)\n",
        "print(''.join(chars))\n",
        "print(vocab_size)"
      ],
      "metadata": {
        "colab": {
          "base_uri": "https://localhost:8080/"
        },
        "id": "scwuY86aUd_1",
        "outputId": "69d19fc6-b726-460c-9c63-de094408fad9"
      },
      "execution_count": 11,
      "outputs": [
        {
          "output_type": "stream",
          "name": "stdout",
          "text": [
            "\t\n",
            " !\"#$%&'()*+,-./0123456789:;<=>?@ABCDEFGHIJKLMNOPQRSTUVWXYZ[]^_abcdefghijklmnopqrstuvwxyz\n",
            "91\n"
          ]
        }
      ]
    },
    {
      "cell_type": "code",
      "source": [
        "stoi = {ch:i for i,ch in enumerate(chars)}\n",
        "itos = {i:ch for i,ch in enumerate(chars)}\n",
        "\n",
        "encode = lambda s: [stoi[c] for c in s]\n",
        "decode = lambda l: ''.join([itos[i] for i in l])\n",
        "\n",
        "print(encode(\"GPT Trial\"))\n",
        "print(decode(encode(\"GPT Trial\")))"
      ],
      "metadata": {
        "id": "7OEOPJ3bUgCH",
        "colab": {
          "base_uri": "https://localhost:8080/"
        },
        "outputId": "a4675661-2443-4504-e6eb-23036c15568b"
      },
      "execution_count": 12,
      "outputs": [
        {
          "output_type": "stream",
          "name": "stdout",
          "text": [
            "[41, 50, 54, 2, 54, 82, 73, 65, 76]\n",
            "GPT Trial\n"
          ]
        }
      ]
    },
    {
      "cell_type": "code",
      "source": [
        "import torch\n",
        "\n",
        "data = torch.tensor(encode(cleaned_text), dtype = torch.long)\n",
        "print(data.shape, data.dtype)\n",
        "print(data[:1000])"
      ],
      "metadata": {
        "colab": {
          "base_uri": "https://localhost:8080/"
        },
        "id": "w3hLSzNkLHxZ",
        "outputId": "1b0d0f75-a27a-4cc4-f0fb-12c2060d6c68"
      },
      "execution_count": 14,
      "outputs": [
        {
          "output_type": "stream",
          "name": "stdout",
          "text": [
            "torch.Size([1624199]) torch.int64\n",
            "tensor([ 0,  1,  0,  2,  2,  2,  2,  2,  2, 50, 82, 73, 78, 67, 73, 80, 76, 69,\n",
            "        83,  2, 79, 70,  2, 40, 73, 78, 65, 78, 67, 69,  2,  2,  2,  2,  2,  2,\n",
            "         2,  2,  2,  2, 53, 39, 48, 43, 49, 52,  2, 37, 49, 48, 54, 52, 43, 36,\n",
            "        55, 54, 43, 48, 41,  2, 35, 55, 54, 42, 49, 52, 53,  2, 44, 55, 46, 43,\n",
            "        39,  2, 38, 35, 42, 46, 51, 55, 43, 53, 54, 14,  2, 54, 39, 58, 35, 53,\n",
            "         2, 37, 42, 52, 43, 53, 54, 43, 35, 48,  2, 55, 48, 43, 56, 39, 52, 53,\n",
            "        43, 54, 59,  2, 52, 35, 43, 48, 40, 49, 52, 38,  2, 45, 48, 43, 41, 42,\n",
            "        54, 14,  2, 40, 46, 49, 52, 43, 38, 35,  2, 35, 54, 46, 35, 48, 54, 43,\n",
            "        37,  2, 55, 48, 43, 56, 39, 52, 53, 43, 54, 59,  2,  2,  2,  2,  2,  2,\n",
            "         2,  2,  2,  2,  1, 49, 80, 69, 78, 53, 84, 65, 88,  2,  2,  1, 52, 73,\n",
            "        67, 69,  2, 55, 78, 73, 86, 69, 82, 83, 73, 84, 89,  2,  1, 24, 19, 18,\n",
            "        18,  2, 47, 65, 73, 78,  2, 53, 84, 82, 69, 69, 84,  2, 47, 53, 15,  2,\n",
            "        21, 25, 23,  2,  1, 42, 79, 85, 83, 84, 79, 78, 14,  2, 54, 69, 88, 65,\n",
            "        83,  2, 25, 25, 18, 18, 23,  2,  2,  1, 54, 79,  2, 76, 69, 65, 82, 78,\n",
            "         2, 77, 79, 82, 69,  2, 65, 66, 79, 85, 84,  2, 49, 80, 69, 78, 53, 84,\n",
            "        65, 88, 14,  2, 86, 73, 83, 73, 84,  2, 72, 84, 84, 80,  2, 83, 28, 17,\n",
            "        17, 79, 80, 69, 78, 83, 84, 65, 88, 16, 79, 82, 71, 16,  2,  2,  1, 43,\n",
            "        78, 68, 73, 86, 73, 68, 85, 65, 76,  2, 80, 82, 73, 78, 84,  2, 67, 79,\n",
            "        80, 73, 69, 83,  2, 65, 78, 68,  2, 66, 85, 76, 75,  2, 79, 82, 68, 69,\n",
            "        82, 83,  2, 67, 65, 78,  2, 66, 69,  2, 80, 85, 82, 67, 72, 65, 83, 69,\n",
            "        68,  2, 84, 72, 82, 79, 85, 71, 72,  2, 79, 85, 82,  2, 87, 69, 66, 83,\n",
            "        73, 84, 69, 16,  2,  2,  1, 20, 18, 20, 20,  2, 52, 73, 67, 69,  2, 55,\n",
            "        78, 73, 86, 69, 82, 83, 73, 84, 89, 16,  2,  2, 54, 69, 88, 84, 66, 79,\n",
            "        79, 75,  2, 67, 79, 78, 84, 69, 78, 84,  2, 80, 82, 79, 68, 85, 67, 69,\n",
            "        68,  2, 66, 89,  2, 49, 80, 69, 78, 53, 84, 65, 88,  2, 73, 83,  2, 76,\n",
            "        73, 67, 69, 78, 83, 69, 68,  2, 85, 78, 68, 69, 82,  2, 65,  2, 37, 82,\n",
            "        69, 65, 84, 73, 86, 69,  2, 37, 79, 77, 77, 79, 78, 83,  2,  1, 35, 84,\n",
            "        84, 82, 73, 66, 85, 84, 73, 79, 78,  2, 22, 16, 18,  2, 43, 78, 84, 69,\n",
            "        82, 78, 65, 84, 73, 79, 78, 65, 76,  2, 46, 73, 67, 69, 78, 83, 69,  2,\n",
            "         2, 10, 37, 37,  2, 36, 59,  2, 22, 16, 18, 11,  2, 16,  2, 55, 78, 68,\n",
            "        69, 82,  2, 84, 72, 73, 83,  2, 76, 73, 67, 69, 78, 83, 69, 14,  2, 65,\n",
            "        78, 89,  2, 85, 83, 69, 82,  2, 79, 70,  2,  2, 84, 72, 73, 83,  2, 84,\n",
            "        69, 88, 84, 66, 79, 79, 75,  2, 79, 82,  2, 84, 72, 69,  2, 84, 69, 88,\n",
            "        84, 66, 79, 79, 75,  2,  1, 67, 79, 78, 84, 69, 78, 84, 83,  2, 72, 69,\n",
            "        82, 69, 73, 78,  2, 77, 85, 83, 84,  2, 80, 82, 79, 86, 73, 68, 69,  2,\n",
            "        80, 82, 79, 80, 69, 82,  2, 65, 84, 84, 82, 73, 66, 85, 84, 73, 79, 78,\n",
            "         2, 65, 83,  2, 70, 79, 76, 76, 79, 87, 83, 28,  2,  2,  2,  1, 15, 43,\n",
            "        70,  2, 89, 79, 85,  2, 82, 69, 68, 73, 83, 84, 82, 73, 66, 85, 84, 69,\n",
            "         2, 84, 72, 73, 83,  2, 84, 69, 88, 84, 66, 79, 79, 75,  2, 73, 78,  2,\n",
            "        65,  2, 68, 73, 71, 73, 84, 65, 76,  2, 70, 79, 82, 77, 65, 84,  2, 10,\n",
            "        73,  2, 78, 67, 76, 85, 68, 73, 78, 71,  2, 66, 85, 84,  2, 78, 79, 84,\n",
            "         2, 76, 73, 77, 73, 84, 69, 68,  2, 84, 79,  2,  2, 50, 38, 40,  2, 65,\n",
            "        78, 68,  2, 42, 54, 47, 46, 11, 14,  2, 84, 72, 69, 78,  2, 89,  2, 79,\n",
            "        85,  1, 77, 85, 83, 84,  2, 82, 69, 84, 65, 73, 78,  2, 79, 78,  2, 69,\n",
            "        86, 69, 82, 89,  2, 80, 65, 71, 69,  2, 84, 72, 69,  2, 70, 79, 76, 76,\n",
            "        79, 87, 73, 78, 71,  2, 65, 84, 84, 82, 73, 66, 85, 84, 73, 79, 78, 28,\n",
            "         1, 35, 67, 67, 69, 83, 83,  2, 70, 79, 82,  2, 70, 82, 69, 69,  2, 65,\n",
            "        84,  2, 79, 80, 69, 78, 83, 84, 65, 88, 16, 79, 82, 71,  2, 16,  1, 15,\n",
            "        43, 70,  2, 89, 79, 85,  2, 82, 69, 68, 73, 83, 84, 82, 73, 66, 85, 84,\n",
            "        69,  2, 84, 72, 73, 83,  2, 84, 69, 88, 84, 66, 79, 79, 75,  2, 73, 78,\n",
            "         2, 65,  2, 80, 82, 73, 78, 84,  2, 70, 79, 82, 77, 65, 84, 14,  2, 84,\n",
            "        72, 69, 78,  2, 89, 79, 85,  2, 77, 85, 83, 84,  2, 73, 78, 67, 76, 85,\n",
            "        68, 69,  2, 79, 78,  2, 69, 86, 69, 82, 89,  2, 80, 72, 89, 83, 73, 67,\n",
            "        65, 76,  2, 80, 65, 71, 69,  2, 84, 72, 69, 70, 79, 76, 76, 79, 87, 73,\n",
            "        78, 71,  2, 65, 84, 84, 82, 73, 66, 85, 84, 73, 79, 78, 28,  1, 35, 67,\n",
            "        67, 69, 83, 83,  2, 70, 79, 82,  2, 70])\n"
          ]
        }
      ]
    },
    {
      "cell_type": "code",
      "source": [
        "n = int(0.9*len(data))\n",
        "train_data = data[:n]\n",
        "val_data = data[n:]"
      ],
      "metadata": {
        "id": "wBD6gM0FMmn5"
      },
      "execution_count": 15,
      "outputs": []
    },
    {
      "cell_type": "code",
      "source": [
        "block_size = 12\n",
        "train_data[:block_size+1]"
      ],
      "metadata": {
        "colab": {
          "base_uri": "https://localhost:8080/"
        },
        "id": "06bZVvBrNTH6",
        "outputId": "21a0908e-4dd7-4a9f-8771-5bdc58427c64"
      },
      "execution_count": 16,
      "outputs": [
        {
          "output_type": "execute_result",
          "data": {
            "text/plain": [
              "tensor([ 0,  1,  0,  2,  2,  2,  2,  2,  2, 50, 82, 73, 78])"
            ]
          },
          "metadata": {},
          "execution_count": 16
        }
      ]
    },
    {
      "cell_type": "code",
      "source": [
        "x = train_data[:block_size]\n",
        "y = train_data[1:block_size+1]\n",
        "\n",
        "for t in range(block_size):\n",
        "  context = x[:t+1]\n",
        "  target = y[t]\n",
        "  print(f\"When input is {context} the target: {target}\")"
      ],
      "metadata": {
        "colab": {
          "base_uri": "https://localhost:8080/"
        },
        "id": "x_WN6UXKN2sV",
        "outputId": "d0b2e93a-aa81-4054-9919-19df1adce625"
      },
      "execution_count": 17,
      "outputs": [
        {
          "output_type": "stream",
          "name": "stdout",
          "text": [
            "When input is tensor([0]) the target: 1\n",
            "When input is tensor([0, 1]) the target: 0\n",
            "When input is tensor([0, 1, 0]) the target: 2\n",
            "When input is tensor([0, 1, 0, 2]) the target: 2\n",
            "When input is tensor([0, 1, 0, 2, 2]) the target: 2\n",
            "When input is tensor([0, 1, 0, 2, 2, 2]) the target: 2\n",
            "When input is tensor([0, 1, 0, 2, 2, 2, 2]) the target: 2\n",
            "When input is tensor([0, 1, 0, 2, 2, 2, 2, 2]) the target: 2\n",
            "When input is tensor([0, 1, 0, 2, 2, 2, 2, 2, 2]) the target: 50\n",
            "When input is tensor([ 0,  1,  0,  2,  2,  2,  2,  2,  2, 50]) the target: 82\n",
            "When input is tensor([ 0,  1,  0,  2,  2,  2,  2,  2,  2, 50, 82]) the target: 73\n",
            "When input is tensor([ 0,  1,  0,  2,  2,  2,  2,  2,  2, 50, 82, 73]) the target: 78\n"
          ]
        }
      ]
    },
    {
      "cell_type": "code",
      "source": [],
      "metadata": {
        "id": "cfZZIEm-ax7G"
      },
      "execution_count": null,
      "outputs": []
    }
  ]
}